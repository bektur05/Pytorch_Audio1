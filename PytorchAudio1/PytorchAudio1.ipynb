{
  "nbformat": 4,
  "nbformat_minor": 0,
  "metadata": {
    "colab": {
      "private_outputs": true,
      "provenance": [],
      "gpuType": "T4"
    },
    "kernelspec": {
      "name": "python3",
      "display_name": "Python 3"
    },
    "language_info": {
      "name": "python"
    },
    "accelerator": "GPU"
  },
  "cells": [
    {
      "cell_type": "code",
      "execution_count": null,
      "metadata": {
        "id": "QRQUGBTKMdm5"
      },
      "outputs": [],
      "source": [
        "import torch.nn as nn\n",
        "import torch\n",
        "import torch.optim as optim\n",
        "from torch.utils.data import DataLoader\n",
        "from torchaudio import transforms, datasets\n",
        "import matplotlib.pyplot as plt\n"
      ]
    },
    {
      "cell_type": "code",
      "source": [
        "train_data = datasets.SPEECHCOMMANDS(root='/content', download=True, subset='training')\n",
        "test_data = datasets.SPEECHCOMMANDS(root='/content', download=True, subset='testing')\n",
        "valid_data = datasets.SPEECHCOMMANDS(root='/content', download=True, subset='validation')"
      ],
      "metadata": {
        "id": "rltjHlz6MfJs"
      },
      "execution_count": null,
      "outputs": []
    },
    {
      "cell_type": "code",
      "source": [
        "label = list(set([i[2] for i in train_data]))\n",
        "label"
      ],
      "metadata": {
        "id": "EONkWo9PMfMS"
      },
      "execution_count": null,
      "outputs": []
    },
    {
      "cell_type": "code",
      "source": [
        "label_to_index = {label: i for i, label in enumerate(label)}\n",
        "label_to_index"
      ],
      "metadata": {
        "id": "n48BzgvWMfOn"
      },
      "execution_count": null,
      "outputs": []
    },
    {
      "cell_type": "code",
      "source": [
        "from torchaudio import transforms\n",
        "\n",
        "transform = transforms.MelSpectrogram(\n",
        "    sample_rate=16000,\n",
        "    n_mels=64\n",
        ")"
      ],
      "metadata": {
        "id": "0BQaMG9pMfRK"
      },
      "execution_count": null,
      "outputs": []
    },
    {
      "cell_type": "code",
      "source": [
        "import torch.nn.functional as F\n",
        "max_len = 100\n",
        "\n",
        "\n",
        "def collate_fn(batch):\n",
        "    spectrograms, targets = [], []\n",
        "    for waveform, sample_rate, label, *_ in batch:\n",
        "        spec = transform(waveform).squeeze(0)\n",
        "\n",
        "        if spec.shape[1] > max_len:\n",
        "            spec = spec[:, :max_len]\n",
        "        elif spec.shape[1] < max_len:\n",
        "            pad_amount = max_len - spec.shape[1]\n",
        "            spec = F.pad(spec, (0, pad_amount))\n",
        "\n",
        "        spectrograms.append(spec)\n",
        "        targets.append(label_to_index[label])\n",
        "\n",
        "    spectrograms = torch.stack(spectrograms)\n",
        "    spectrograms = spectrograms.unsqueeze(1)\n",
        "    targets = torch.tensor(targets)\n",
        "    return spectrograms, targets"
      ],
      "metadata": {
        "id": "6Y_RGs1dMfUE"
      },
      "execution_count": null,
      "outputs": []
    },
    {
      "cell_type": "code",
      "source": [
        "len(label)"
      ],
      "metadata": {
        "id": "iug_3tGeMfW8"
      },
      "execution_count": null,
      "outputs": []
    },
    {
      "cell_type": "code",
      "source": [
        "train = DataLoader(train_data, batch_size=64, shuffle=True, collate_fn=collate_fn)\n",
        "test = DataLoader(test_data, batch_size=64, collate_fn=collate_fn)"
      ],
      "metadata": {
        "id": "lQNxht7VSz3p"
      },
      "execution_count": null,
      "outputs": []
    },
    {
      "cell_type": "code",
      "source": [
        "class CheckAudio(nn.Module):\n",
        "    def __init__(self, num_classes):\n",
        "        super().__init__()\n",
        "        self.first = nn.Sequential(\n",
        "            nn.Conv2d(1, 16, kernel_size=3, padding=1),\n",
        "            nn.ReLU(),\n",
        "            nn.MaxPool2d(2),\n",
        "            nn.Conv2d(16, 32, kernel_size=3, padding=1),\n",
        "            nn.ReLU(),\n",
        "            nn.MaxPool2d(2),\n",
        "            nn.Conv2d(32, 64, kernel_size=3, padding=1),\n",
        "            nn.ReLU(),\n",
        "            nn.MaxPool2d(2),\n",
        "        )\n",
        "\n",
        "        self.second = nn.Sequential(\n",
        "            nn.Flatten(),\n",
        "            nn.Linear(64 * 8 * 12, 512),\n",
        "            nn.ReLU(),\n",
        "            nn.Linear(512, num_classes),\n",
        "        )\n",
        "\n",
        "    def forward(self, x):\n",
        "        x = self.first(x)\n",
        "        x = self.second(x)\n",
        "        return x"
      ],
      "metadata": {
        "id": "nJj0qnHZMfZj"
      },
      "execution_count": null,
      "outputs": []
    },
    {
      "cell_type": "code",
      "source": [
        "device = torch.device('cuda' if torch.cuda.is_available() else 'cpu')\n",
        "device"
      ],
      "metadata": {
        "id": "6MGErboAMffA"
      },
      "execution_count": null,
      "outputs": []
    },
    {
      "cell_type": "code",
      "source": [
        "print(torch.cuda.is_available())"
      ],
      "metadata": {
        "id": "-dytJBNHMfhl"
      },
      "execution_count": null,
      "outputs": []
    },
    {
      "cell_type": "code",
      "source": [
        "model = CheckAudio(num_classes=len(label)).to(device)"
      ],
      "metadata": {
        "id": "cZtF6g-LMfj-"
      },
      "execution_count": null,
      "outputs": []
    },
    {
      "cell_type": "code",
      "source": [
        "loss_fn = nn.CrossEntropyLoss()\n",
        "optimizer = optim.Adam(model.parameters(), lr=0.001)"
      ],
      "metadata": {
        "id": "1kQDV6b_Mfm_"
      },
      "execution_count": null,
      "outputs": []
    },
    {
      "cell_type": "code",
      "source": [
        "for epoch in range(2):\n",
        "  model.train()\n",
        "  total_loss = 0\n",
        "  for x_batch, y_batch in train:\n",
        "    x_batch, y_batch = x_batch.to(device), y_batch.to(device)\n",
        "\n",
        "    y_pred = model(x_batch)\n",
        "    loss = loss_fn(y_pred, y_batch)\n",
        "\n",
        "    optimizer.zero_grad()\n",
        "    loss.backward()\n",
        "    optimizer.step()\n",
        "    total_loss += loss.item()\n",
        "  print(f\"Эпоха {epoch + 1}, Потерии: {round(total_loss, 2)}\")"
      ],
      "metadata": {
        "id": "rHM5lCAzMfp4"
      },
      "execution_count": null,
      "outputs": []
    },
    {
      "cell_type": "code",
      "source": [
        "model.eval()\n",
        "correct = 0\n",
        "total = 0\n",
        "\n",
        "with torch.no_grad():\n",
        "    for x_batch, y_batch in test:\n",
        "        x_batch, y_batch = x_batch.to(device), y_batch.to(device)\n",
        "        y_pred = model(x_batch)\n",
        "        predicted = torch.argmax(y_pred, dim=1)\n",
        "        correct += (predicted == y_batch).sum().item()\n",
        "        total += y_batch.size(0)\n",
        "\n",
        "accuracy = 100 * correct / total\n",
        "print(f\"Точность модели на тестовых данных: {accuracy:.2f}%\")"
      ],
      "metadata": {
        "id": "a6PjuyEBMfsY"
      },
      "execution_count": null,
      "outputs": []
    },
    {
      "cell_type": "code",
      "source": [
        "torch.save(model.state_dict(), \"ModelAudio.pth\")\n",
        "\n"
      ],
      "metadata": {
        "id": "zmkOnOCEMfvP"
      },
      "execution_count": null,
      "outputs": []
    },
    {
      "cell_type": "code",
      "source": [
        "torch.save(label, \"label.pth\")"
      ],
      "metadata": {
        "id": "5QFBoLfPMfyH"
      },
      "execution_count": null,
      "outputs": []
    },
    {
      "cell_type": "code",
      "source": [],
      "metadata": {
        "id": "zaaIiEr1Mf0w"
      },
      "execution_count": null,
      "outputs": []
    },
    {
      "cell_type": "code",
      "source": [],
      "metadata": {
        "id": "q8U9jVCDMf3f"
      },
      "execution_count": null,
      "outputs": []
    },
    {
      "cell_type": "code",
      "source": [],
      "metadata": {
        "id": "FqK7JRfVMf6R"
      },
      "execution_count": null,
      "outputs": []
    },
    {
      "cell_type": "code",
      "source": [],
      "metadata": {
        "id": "ispuI0pYMf89"
      },
      "execution_count": null,
      "outputs": []
    },
    {
      "cell_type": "code",
      "source": [],
      "metadata": {
        "id": "YQuOdKw9Mf_1"
      },
      "execution_count": null,
      "outputs": []
    },
    {
      "cell_type": "code",
      "source": [],
      "metadata": {
        "id": "8QlcAAwjMgCv"
      },
      "execution_count": null,
      "outputs": []
    },
    {
      "cell_type": "code",
      "source": [],
      "metadata": {
        "id": "vs_sT5PYMgFk"
      },
      "execution_count": null,
      "outputs": []
    },
    {
      "cell_type": "code",
      "source": [],
      "metadata": {
        "id": "HKkToE7LMgIc"
      },
      "execution_count": null,
      "outputs": []
    },
    {
      "cell_type": "code",
      "source": [],
      "metadata": {
        "id": "By4VpR-tMgLT"
      },
      "execution_count": null,
      "outputs": []
    },
    {
      "cell_type": "code",
      "source": [],
      "metadata": {
        "id": "hiC2GlDqMgOJ"
      },
      "execution_count": null,
      "outputs": []
    },
    {
      "cell_type": "code",
      "source": [],
      "metadata": {
        "id": "wtc5XhkgMgQs"
      },
      "execution_count": null,
      "outputs": []
    },
    {
      "cell_type": "code",
      "source": [],
      "metadata": {
        "id": "DKpx3cnUMgTm"
      },
      "execution_count": null,
      "outputs": []
    },
    {
      "cell_type": "code",
      "source": [],
      "metadata": {
        "id": "jh9O2b3zMgWN"
      },
      "execution_count": null,
      "outputs": []
    },
    {
      "cell_type": "code",
      "source": [],
      "metadata": {
        "id": "O6FzIEKkMgYu"
      },
      "execution_count": null,
      "outputs": []
    },
    {
      "cell_type": "code",
      "source": [],
      "metadata": {
        "id": "Bj5oUoQ8Mgbe"
      },
      "execution_count": null,
      "outputs": []
    },
    {
      "cell_type": "code",
      "source": [],
      "metadata": {
        "id": "bMlFJ9MTMgeK"
      },
      "execution_count": null,
      "outputs": []
    },
    {
      "cell_type": "code",
      "source": [],
      "metadata": {
        "id": "cX0Eym8yMgha"
      },
      "execution_count": null,
      "outputs": []
    }
  ]
}